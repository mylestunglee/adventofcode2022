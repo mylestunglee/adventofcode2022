{
 "cells": [
  {
   "cell_type": "code",
   "execution_count": 30,
   "id": "ac8539a6",
   "metadata": {},
   "outputs": [
    {
     "name": "stdout",
     "output_type": "stream",
     "text": [
      "16480\n"
     ]
    }
   ],
   "source": [
    "lines = open('day10_input.txt').read()\n",
    "\n",
    "x = 1\n",
    "total_signal_strength = 0\n",
    "cycle = 1\n",
    "\n",
    "for line in lines.splitlines():\n",
    "    if not line:\n",
    "        continue\n",
    "    \n",
    "    if (cycle + 20) % 40 == 0:\n",
    "        total_signal_strength += cycle * x\n",
    "    \n",
    "    if line == 'noop':\n",
    "        cycle += 1\n",
    "    else:\n",
    "        _, value = line.split();\n",
    "        if (cycle + 21) % 40 == 0:\n",
    "            total_signal_strength += (cycle + 1) * x\n",
    "        x += int(value)\n",
    "        cycle += 2\n",
    "        \n",
    "print(total_signal_strength)\n"
   ]
  },
  {
   "cell_type": "code",
   "execution_count": 29,
   "id": "75781c78",
   "metadata": {},
   "outputs": [
    {
     "name": "stdout",
     "output_type": "stream",
     "text": [
      "###..#....####.####.#..#.#....###..###..\n",
      "#..#.#....#....#....#..#.#....#..#.#..#.\n",
      "#..#.#....###..###..#..#.#....#..#.###..\n",
      "###..#....#....#....#..#.#....###..#..#.\n",
      "#....#....#....#....#..#.#....#....#..#.\n",
      "#....####.####.#.....##..####.#....###..\n"
     ]
    }
   ],
   "source": [
    "lines = open('day10_input.txt').read()\n",
    "\n",
    "x = 1\n",
    "total_signal_strength = 0\n",
    "cycle = 1\n",
    "\n",
    "for line in lines.splitlines():\n",
    "    if not line:\n",
    "        continue\n",
    "    \n",
    "    if abs((cycle - 1) % 40 - x) < 2:\n",
    "        print('#', end='')\n",
    "    else:\n",
    "        print('.', end='')\n",
    "    \n",
    "    if (cycle) % 40 == 0:\n",
    "        print()\n",
    "    \n",
    "    if line == 'noop':\n",
    "        cycle += 1\n",
    "    else:\n",
    "        _, value = line.split();\n",
    "        cycle += 1\n",
    "        if abs((cycle - 1) % 40 - x) < 2:\n",
    "            print('#', end='')\n",
    "        else:\n",
    "            print('.', end='')\n",
    "        if (cycle) % 40 == 0:\n",
    "            print()\n",
    "        x += int(value)\n",
    "        cycle += 1\n"
   ]
  },
  {
   "cell_type": "code",
   "execution_count": null,
   "id": "59713221",
   "metadata": {},
   "outputs": [],
   "source": []
  }
 ],
 "metadata": {
  "kernelspec": {
   "display_name": "Python 3 (ipykernel)",
   "language": "python",
   "name": "python3"
  },
  "language_info": {
   "codemirror_mode": {
    "name": "ipython",
    "version": 3
   },
   "file_extension": ".py",
   "mimetype": "text/x-python",
   "name": "python",
   "nbconvert_exporter": "python",
   "pygments_lexer": "ipython3",
   "version": "3.10.0"
  }
 },
 "nbformat": 4,
 "nbformat_minor": 5
}
