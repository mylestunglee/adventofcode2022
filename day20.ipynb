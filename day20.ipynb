{
 "cells": [
  {
   "cell_type": "code",
   "execution_count": 169,
   "id": "0cba0b4c",
   "metadata": {},
   "outputs": [
    {
     "name": "stdout",
     "output_type": "stream",
     "text": [
      "5498\n"
     ]
    }
   ],
   "source": [
    "with open(\"day20_input.txt\") as f:\n",
    "    numbers = [int(n) for n in f.readlines()]\n",
    "\n",
    "mixed = [a for a in enumerate(numbers)]\n",
    "lm = len(mixed) - 1\n",
    "\n",
    "for i, x in enumerate(numbers):\n",
    "    curr = (i, x)\n",
    "    idx_old = mixed.index(curr)\n",
    "    mixed.remove(curr)\n",
    "    idx_new = (idx_old + x + lm) % lm\n",
    "    mixed.insert(idx_new, curr)\n",
    "\n",
    "zero_tuple = (numbers.index(0), 0)\n",
    "idx_zero_tuple = mixed.index(zero_tuple)\n",
    "print(sum(mixed[(idx_zero_tuple + i) % len(numbers)][1] for i in [1000, 2000, 3000]))\n"
   ]
  },
  {
   "cell_type": "code",
   "execution_count": 142,
   "id": "b0f87bf2",
   "metadata": {},
   "outputs": [
    {
     "data": {
      "text/plain": [
       "[0, 1, -1, -1]"
      ]
     },
     "execution_count": 142,
     "metadata": {},
     "output_type": "execute_result"
    }
   ],
   "source": [
    "mix_numbers([0, -1, 1, -1], -1)"
   ]
  },
  {
   "cell_type": "code",
   "execution_count": null,
   "id": "148cfe2d",
   "metadata": {},
   "outputs": [],
   "source": []
  },
  {
   "cell_type": "code",
   "execution_count": 168,
   "id": "66c1da2f",
   "metadata": {},
   "outputs": [
    {
     "name": "stdout",
     "output_type": "stream",
     "text": [
      "5498\n"
     ]
    }
   ],
   "source": [
    "with open(\"day20_input.txt\") as f:\n",
    "    numbers = [int(n) for n in f.readlines()]\n",
    "\n",
    "mixed = [a for a in enumerate(numbers)]\n",
    "lm = len(mixed) - 1\n",
    "\n",
    "for i, x in enumerate(numbers):\n",
    "    curr = (i, x)\n",
    "    idx_old = mixed.index(curr)\n",
    "    mixed.remove(curr)\n",
    "    idx_new = (idx_old + x + lm) % lm\n",
    "    mixed.insert(idx_new, curr)\n",
    "\n",
    "zero_tuple = (numbers.index(0), 0)\n",
    "idx_zero_tuple = mixed.index(zero_tuple)\n",
    "print(sum(mixed[(idx_zero_tuple + i) % len(numbers)][1] for i in [1000, 2000, 3000]))\n"
   ]
  },
  {
   "cell_type": "code",
   "execution_count": null,
   "id": "6d066e44",
   "metadata": {},
   "outputs": [],
   "source": []
  }
 ],
 "metadata": {
  "kernelspec": {
   "display_name": "Python 3 (ipykernel)",
   "language": "python",
   "name": "python3"
  },
  "language_info": {
   "codemirror_mode": {
    "name": "ipython",
    "version": 3
   },
   "file_extension": ".py",
   "mimetype": "text/x-python",
   "name": "python",
   "nbconvert_exporter": "python",
   "pygments_lexer": "ipython3",
   "version": "3.10.0"
  }
 },
 "nbformat": 4,
 "nbformat_minor": 5
}
