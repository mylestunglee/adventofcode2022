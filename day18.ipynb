{
 "cells": [
  {
   "cell_type": "code",
   "execution_count": 29,
   "id": "76992623",
   "metadata": {},
   "outputs": [
    {
     "name": "stdout",
     "output_type": "stream",
     "text": [
      "3522\n"
     ]
    }
   ],
   "source": [
    "with open('day18_input.txt') as file:\n",
    "    puzzle_input = file.read()\n",
    "\n",
    "cubes = set()\n",
    "\n",
    "for line in puzzle_input.split():\n",
    "    cubes.add(tuple(map(int, line.split(','))))\n",
    "    \n",
    "count = 0    \n",
    "\n",
    "for x, y, z in cubes:\n",
    "    if not (x - 1, y, z) in cubes:\n",
    "        count += 1\n",
    "    if not (x + 1, y, z) in cubes:\n",
    "        count += 1\n",
    "    if not (x, y - 1, z) in cubes:\n",
    "        count += 1\n",
    "    if not (x, y + 1, z) in cubes:\n",
    "        count += 1\n",
    "    if not (x, y, z - 1) in cubes:\n",
    "        count += 1\n",
    "    if not (x, y, z + 1) in cubes:\n",
    "        count += 1\n",
    "    \n",
    "print(count)\n"
   ]
  },
  {
   "cell_type": "code",
   "execution_count": 28,
   "id": "b28b442d",
   "metadata": {},
   "outputs": [
    {
     "name": "stdout",
     "output_type": "stream",
     "text": [
      "2074\n"
     ]
    }
   ],
   "source": [
    "with open('day18_input.txt') as file:\n",
    "    puzzle_input = file.read()\n",
    "\n",
    "cubes = set()\n",
    "x_min = 999\n",
    "x_max = -999\n",
    "y_min = 999\n",
    "y_max = -999\n",
    "z_min = 999\n",
    "z_max = -999\n",
    "\n",
    "for line in puzzle_input.split():\n",
    "    x, y, z = map(int, line.split(','))\n",
    "    x_min = min(x_min, x)\n",
    "    x_max = max(x_max, x)\n",
    "    y_min = min(y_min, y)\n",
    "    y_max = max(y_max, y)\n",
    "    z_min = min(z_min, z)\n",
    "    z_max = max(z_max, z)\n",
    "    cubes.add((x, y, z))\n",
    "    \n",
    "x_min -= 1\n",
    "x_max += 1\n",
    "y_min -= 1\n",
    "y_max += 1\n",
    "z_min -= 1\n",
    "z_max += 1\n",
    "\n",
    "count = 0\n",
    "visited = set()\n",
    "queue = [(x_min, y_min, z_min)]\n",
    "\n",
    "while queue:\n",
    "    x, y, z = queue.pop(0)\n",
    "    \n",
    "    if x < x_min or x > x_max or y < y_min or y > y_max or z < z_min or z > z_max:\n",
    "        continue\n",
    "    \n",
    "    if (x, y, z) in visited:\n",
    "        continue\n",
    "    \n",
    "    if (x, y, z) in cubes:\n",
    "        count += 1\n",
    "        continue\n",
    "        \n",
    "    visited.add((x, y, z))\n",
    "    \n",
    "    queue.append((x - 1, y, z))\n",
    "    queue.append((x + 1, y, z))\n",
    "    queue.append((x, y - 1, z))\n",
    "    queue.append((x, y + 1, z))\n",
    "    queue.append((x, y, z - 1))\n",
    "    queue.append((x, y, z + 1))\n",
    "\n",
    "print(count)"
   ]
  },
  {
   "cell_type": "code",
   "execution_count": null,
   "id": "a1d6acb0",
   "metadata": {},
   "outputs": [],
   "source": []
  }
 ],
 "metadata": {
  "kernelspec": {
   "display_name": "Python 3 (ipykernel)",
   "language": "python",
   "name": "python3"
  },
  "language_info": {
   "codemirror_mode": {
    "name": "ipython",
    "version": 3
   },
   "file_extension": ".py",
   "mimetype": "text/x-python",
   "name": "python",
   "nbconvert_exporter": "python",
   "pygments_lexer": "ipython3",
   "version": "3.10.0"
  }
 },
 "nbformat": 4,
 "nbformat_minor": 5
}
