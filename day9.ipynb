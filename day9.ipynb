{
 "cells": [
  {
   "cell_type": "code",
   "execution_count": 27,
   "id": "68ce7052",
   "metadata": {},
   "outputs": [
    {
     "name": "stdout",
     "output_type": "stream",
     "text": [
      "5735\n"
     ]
    }
   ],
   "source": [
    "input_data = open('day9_input.txt').read()\n",
    "lines = input_data.splitlines()\n",
    "visited = set()\n",
    "head_x = 0\n",
    "head_y = 0\n",
    "tail_x = 0\n",
    "tail_y = 0\n",
    "\n",
    "for line in lines:\n",
    "    words = line.split()\n",
    "    for i in range(int(words[1])):\n",
    "        if words[0] == 'R':\n",
    "            head_x += 1\n",
    "        elif words[0] == 'L':\n",
    "            head_x -= 1\n",
    "        elif words[0] == 'U':\n",
    "            head_y -= 1\n",
    "        elif words[0] == 'D':\n",
    "            head_y += 1\n",
    "\n",
    "        if abs(tail_x - head_x) >= 2 or abs(tail_y - head_y) >= 2:\n",
    "            if tail_x < head_x:\n",
    "                tail_x += 1\n",
    "            elif tail_x > head_x:\n",
    "                tail_x -= 1\n",
    "\n",
    "            if tail_y < head_y:\n",
    "                tail_y += 1\n",
    "            elif tail_y > head_y:\n",
    "                tail_y -= 1\n",
    "\n",
    "        visited.add((tail_x, tail_y))\n",
    "            \n",
    "print(len(visited))"
   ]
  },
  {
   "cell_type": "code",
   "execution_count": 38,
   "id": "e344d667",
   "metadata": {},
   "outputs": [
    {
     "name": "stdout",
     "output_type": "stream",
     "text": [
      "2478\n"
     ]
    }
   ],
   "source": [
    "input_data = open('day9_input.txt').read()\n",
    "lines = input_data.splitlines()\n",
    "visited = set()\n",
    "rope_len = 10\n",
    "rope_x = [0 for _ in range(rope_len)]\n",
    "rope_y = [0 for _ in range(rope_len)]\n",
    "\n",
    "for line in lines:\n",
    "    words = line.split()\n",
    "    for i in range(int(words[1])):\n",
    "        if words[0] == 'R':\n",
    "            rope_x[0] += 1\n",
    "        elif words[0] == 'L':\n",
    "            rope_x[0] -= 1\n",
    "        elif words[0] == 'U':\n",
    "            rope_y[0] -= 1\n",
    "        elif words[0] == 'D':\n",
    "            rope_y[0] += 1\n",
    "\n",
    "        for i in range(1, rope_len):\n",
    "            if abs(rope_x[i - 1] - rope_x[i]) >= 2 or abs(rope_y[i - 1] - rope_y[i]) >= 2:\n",
    "                if rope_x[i] < rope_x[i - 1]:\n",
    "                    rope_x[i] += 1\n",
    "                elif rope_x[i] > rope_x[i - 1]:\n",
    "                    rope_x[i] -= 1\n",
    "\n",
    "                if rope_y[i] < rope_y[i - 1]:\n",
    "                    rope_y[i] += 1\n",
    "                elif rope_y[i] > rope_y[i - 1]:\n",
    "                    rope_y[i] -= 1\n",
    "\n",
    "        visited.add((rope_x[-1], rope_y[-1]))\n",
    "            \n",
    "print(len(visited))"
   ]
  },
  {
   "cell_type": "code",
   "execution_count": null,
   "id": "a178cfc5",
   "metadata": {},
   "outputs": [],
   "source": []
  }
 ],
 "metadata": {
  "kernelspec": {
   "display_name": "Python 3 (ipykernel)",
   "language": "python",
   "name": "python3"
  },
  "language_info": {
   "codemirror_mode": {
    "name": "ipython",
    "version": 3
   },
   "file_extension": ".py",
   "mimetype": "text/x-python",
   "name": "python",
   "nbconvert_exporter": "python",
   "pygments_lexer": "ipython3",
   "version": "3.10.0"
  }
 },
 "nbformat": 4,
 "nbformat_minor": 5
}
