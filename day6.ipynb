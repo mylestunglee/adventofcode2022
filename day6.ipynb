{
 "cells": [
  {
   "cell_type": "code",
   "execution_count": 2,
   "id": "f63f19a4",
   "metadata": {},
   "outputs": [
    {
     "name": "stdout",
     "output_type": "stream",
     "text": [
      "1578\n"
     ]
    }
   ],
   "source": [
    "file = open('day6_input.txt')\n",
    "buffer = file.read()\n",
    "marker_length = 4\n",
    "for i in range(len(buffer) - marker_length + 1):\n",
    "    chars = set(buffer[i:i + marker_length])\n",
    "    if len(chars) == marker_length:\n",
    "        print(i + marker_length)\n",
    "        break"
   ]
  },
  {
   "cell_type": "code",
   "execution_count": 1,
   "id": "c468d363",
   "metadata": {},
   "outputs": [
    {
     "name": "stdout",
     "output_type": "stream",
     "text": [
      "2178\n"
     ]
    }
   ],
   "source": [
    "file = open('day6_input.txt')\n",
    "buffer = file.read()\n",
    "marker_length = 14\n",
    "for i in range(len(buffer) - marker_length + 1):\n",
    "    chars = set(buffer[i:i + marker_length])\n",
    "    if len(chars) == marker_length:\n",
    "        print(i + marker_length)\n",
    "        break"
   ]
  },
  {
   "cell_type": "code",
   "execution_count": null,
   "id": "c13571ac",
   "metadata": {},
   "outputs": [],
   "source": []
  }
 ],
 "metadata": {
  "kernelspec": {
   "display_name": "Python 3 (ipykernel)",
   "language": "python",
   "name": "python3"
  },
  "language_info": {
   "codemirror_mode": {
    "name": "ipython",
    "version": 3
   },
   "file_extension": ".py",
   "mimetype": "text/x-python",
   "name": "python",
   "nbconvert_exporter": "python",
   "pygments_lexer": "ipython3",
   "version": "3.10.0"
  }
 },
 "nbformat": 4,
 "nbformat_minor": 5
}
