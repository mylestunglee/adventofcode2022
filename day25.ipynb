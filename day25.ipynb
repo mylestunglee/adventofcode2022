{
 "cells": [
  {
   "cell_type": "code",
   "execution_count": 23,
   "id": "e8817b70",
   "metadata": {},
   "outputs": [
    {
     "name": "stdout",
     "output_type": "stream",
     "text": [
      "2=112--220-=-00=-=20\n"
     ]
    }
   ],
   "source": [
    "puzzle_input = '''1=-0-2\n",
    "12111\n",
    "2=0=\n",
    "21\n",
    "2=01\n",
    "111\n",
    "20012\n",
    "112\n",
    "1=-1=\n",
    "1-12\n",
    "12\n",
    "1=\n",
    "122'''\n",
    "with open('day25_input.txt') as file:\n",
    "    puzzle_input = file.read()\n",
    "\n",
    "def convert_snafu_to_integer(snafu):\n",
    "    digit_map = {'=': -2, '-': -1, '0': 0, '1': 1, '2': 2}\n",
    "    scale = 1\n",
    "    result = 0\n",
    "    for digit in snafu[::-1]:\n",
    "        result += scale * digit_map[digit]\n",
    "        scale *= 5\n",
    "    return result\n",
    "\n",
    "def convert_integer_to_snafu(integer):\n",
    "    scale = 5\n",
    "    digits = []\n",
    "    while integer > 0:\n",
    "        digits.append(integer % scale)\n",
    "        integer -= integer % scale\n",
    "        integer //= scale\n",
    "    \n",
    "    len_digits = len(digits)\n",
    "    digits.append(0)\n",
    "    \n",
    "    for i in range(len_digits):\n",
    "        if digits[i] >= 3:\n",
    "            digits[i] -= scale\n",
    "            digits[i + 1] += 1\n",
    "    \n",
    "    digit_map = {\n",
    "        -2: '=',\n",
    "        -1: '-',\n",
    "        0: '0',\n",
    "        1: '1',\n",
    "        2: '2'\n",
    "    }\n",
    "    \n",
    "    if digits[-1] == 0:\n",
    "        digits.pop(-1)\n",
    "    \n",
    "    result = ''.join(digit_map[digit] for digit in digits[::-1])\n",
    "    return result\n",
    "\n",
    "def sum_snafus(puzzle_input):\n",
    "    total = 0\n",
    "    for line in puzzle_input.split():\n",
    "        total += convert_snafu_to_integer(line)\n",
    "    return convert_integer_to_snafu(total)\n",
    "    \n",
    "print(sum_snafus(puzzle_input))"
   ]
  },
  {
   "cell_type": "code",
   "execution_count": null,
   "id": "496b7005",
   "metadata": {},
   "outputs": [],
   "source": []
  }
 ],
 "metadata": {
  "kernelspec": {
   "display_name": "Python 3 (ipykernel)",
   "language": "python",
   "name": "python3"
  },
  "language_info": {
   "codemirror_mode": {
    "name": "ipython",
    "version": 3
   },
   "file_extension": ".py",
   "mimetype": "text/x-python",
   "name": "python",
   "nbconvert_exporter": "python",
   "pygments_lexer": "ipython3",
   "version": "3.10.0"
  }
 },
 "nbformat": 4,
 "nbformat_minor": 5
}
