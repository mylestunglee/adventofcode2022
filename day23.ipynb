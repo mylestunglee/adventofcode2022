{
 "cells": [
  {
   "cell_type": "code",
   "execution_count": 87,
   "id": "4f762e51",
   "metadata": {},
   "outputs": [
    {
     "data": {
      "text/plain": [
       "3990"
      ]
     },
     "execution_count": 87,
     "metadata": {},
     "output_type": "execute_result"
    }
   ],
   "source": [
    "from collections import defaultdict\n",
    "\n",
    "with open('day23_input.txt') as file:\n",
    "    puzzle_input = file.read()\n",
    "\n",
    "def parse_poses(puzzle_input):\n",
    "    return {(x, y) for y, line in enumerate(puzzle_input.split()) for x, char in enumerate(line) if char == '#'}\n",
    "\n",
    "def is_any_adjacent(pos, poses):\n",
    "    x, y = pos\n",
    "    for offset_x in [-1, 0, 1]:\n",
    "        for offset_y in [-1, 0, 1]:\n",
    "            if offset_x == 0 and offset_y == 0:\n",
    "                continue\n",
    "                \n",
    "            if (x + offset_x, y + offset_y) in poses:\n",
    "                return True\n",
    "    \n",
    "    return False\n",
    "\n",
    "def calc_suggested_poses(poses, round_index):\n",
    "    suggested_poses = defaultdict(lambda: list())\n",
    "\n",
    "    for curr in poses:\n",
    "        curr_x, curr_y = curr\n",
    "        if not is_any_adjacent(curr, poses):\n",
    "            suggested_poses[curr].append(curr)\n",
    "            continue\n",
    "        \n",
    "        suggestions = [\n",
    "            {\n",
    "                'check_offsets': [(-1, -1), (0, -1), (1, -1)],\n",
    "                'offset_x': 0,\n",
    "                'offset_y': -1\n",
    "            },\n",
    "            {\n",
    "                'check_offsets': [(-1, 1), (0, 1), (1, 1)],\n",
    "                'offset_x': 0,\n",
    "                'offset_y': 1\n",
    "            },\n",
    "            {\n",
    "                'check_offsets': [(-1, -1), (-1, 0), (-1, 1)],\n",
    "                'offset_x': -1,\n",
    "                'offset_y': 0\n",
    "            },\n",
    "            {\n",
    "                'check_offsets': [(1, -1), (1, 0), (1, 1)],\n",
    "                'offset_x': 1,\n",
    "                'offset_y': 0\n",
    "            }\n",
    "        ]\n",
    "        \n",
    "        for index in range(len(suggestions)):\n",
    "            suggestion = suggestions[(index + round_index) % len(suggestions)]\n",
    "            if all(not (curr_x + x, curr_y + y) in poses for x, y in suggestion['check_offsets']):\n",
    "                suggested_poses[(curr_x + suggestion['offset_x'], curr_y + suggestion['offset_y'])].append(curr)\n",
    "                break\n",
    "        else:\n",
    "            suggested_poses[curr].append(curr)\n",
    "\n",
    "    return suggested_poses\n",
    "\n",
    "def resolve_suggested_poses(suggested_poses):\n",
    "    poses = set()\n",
    "\n",
    "    for suggested_pos, original_poses in suggested_poses.items():\n",
    "        if len(original_poses) == 1:\n",
    "            poses.add(suggested_pos)\n",
    "        else:\n",
    "            poses |= set(original_poses)\n",
    "            \n",
    "    return poses\n",
    "\n",
    "def calc_ground_tiles(poses):\n",
    "    xs = [x for x, y in poses]\n",
    "    ys = [y for x, y in poses]\n",
    "    return (max(xs) - min(xs) + 1) * (max(ys) - min(ys) + 1) - len(poses)\n",
    "\n",
    "def print_poses(poses):\n",
    "    xs = [x for x, y in poses]\n",
    "    ys = [y for x, y in poses]\n",
    "    for y in range(min(ys), max(ys) + 1):\n",
    "        for x in range(min(xs), max(xs) + 1):\n",
    "            if (x, y) in poses:\n",
    "                print('#', end='')\n",
    "            else:\n",
    "                print('.', end='')\n",
    "        print()\n",
    "\n",
    "poses = parse_poses(puzzle_input)\n",
    "\n",
    "for round_index in range(10):\n",
    "    suggested_poses = calc_suggested_poses(poses, round_index)\n",
    "    poses = resolve_suggested_poses(suggested_poses)\n",
    "    \n",
    "calc_ground_tiles(poses)\n"
   ]
  },
  {
   "cell_type": "code",
   "execution_count": 88,
   "id": "5a462e4b",
   "metadata": {},
   "outputs": [
    {
     "name": "stdout",
     "output_type": "stream",
     "text": [
      "1057\n"
     ]
    }
   ],
   "source": [
    "poses = parse_poses(puzzle_input)\n",
    "round_index = 0\n",
    "\n",
    "while True:\n",
    "    poses_copy = poses.copy()\n",
    "    suggested_poses = calc_suggested_poses(poses, round_index)\n",
    "    poses = resolve_suggested_poses(suggested_poses)\n",
    "    round_index += 1\n",
    "    \n",
    "    if poses == poses_copy:\n",
    "        print(round_index)\n",
    "        break"
   ]
  }
 ],
 "metadata": {
  "kernelspec": {
   "display_name": "Python 3 (ipykernel)",
   "language": "python",
   "name": "python3"
  },
  "language_info": {
   "codemirror_mode": {
    "name": "ipython",
    "version": 3
   },
   "file_extension": ".py",
   "mimetype": "text/x-python",
   "name": "python",
   "nbconvert_exporter": "python",
   "pygments_lexer": "ipython3",
   "version": "3.10.0"
  }
 },
 "nbformat": 4,
 "nbformat_minor": 5
}
