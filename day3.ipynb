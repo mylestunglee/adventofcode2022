{
 "cells": [
  {
   "cell_type": "code",
   "execution_count": 13,
   "id": "907bb723-1336-4512-b576-1acf0db2bf1d",
   "metadata": {},
   "outputs": [],
   "source": [
    "def calc_priority_backpack(backpack):\n",
    "    compartment1 = set(backpack[: len(backpack) // 2])\n",
    "    compartment2 = set(backpack[len(backpack) // 2 :])\n",
    "    return sum(calc_priority_item(item) for item in compartment1 & compartment2)"
   ]
  },
  {
   "cell_type": "code",
   "execution_count": 36,
   "id": "d081eeeb-3db0-4dcb-a3ba-b87d0e80b808",
   "metadata": {},
   "outputs": [],
   "source": [
    "def calc_priority_item(item):\n",
    "    if 'a' <= item <= 'z':\n",
    "        return ord(item) - ord('a') + 1\n",
    "    elif 'A' <= item <= 'Z':\n",
    "        return ord(item) - ord('A') + 27\n",
    "    print('error', item)"
   ]
  },
  {
   "cell_type": "code",
   "execution_count": 37,
   "id": "be1bcfee-acbc-4ec9-a0a6-6d87c1012d5c",
   "metadata": {},
   "outputs": [
    {
     "name": "stdout",
     "output_type": "stream",
     "text": [
      "7793\n"
     ]
    }
   ],
   "source": [
    "with open('day3_input.txt') as file:\n",
    "    lines = file.read().splitlines()\n",
    "    print(sum(calc_priority_backpack(line) for line in lines))"
   ]
  },
  {
   "cell_type": "code",
   "execution_count": 29,
   "id": "8c914d2e-7b90-4854-a3e8-3abdb1aa0ecf",
   "metadata": {},
   "outputs": [],
   "source": [
    "def calc_priority_backpack_group(backpack1, backpack2, backpack3):\n",
    "    return sum(calc_priority_item(item) for item in set(backpack1) & set(backpack2) & set(backpack3))"
   ]
  },
  {
   "cell_type": "code",
   "execution_count": 40,
   "id": "0a984483-46b6-4255-8e79-3808f35391eb",
   "metadata": {},
   "outputs": [
    {
     "name": "stdout",
     "output_type": "stream",
     "text": [
      "2499\n"
     ]
    }
   ],
   "source": [
    "with open('day3_input.txt') as file:\n",
    "    lines = file.read().splitlines()\n",
    "    groups = zip(lines[::3], lines[1::3], lines[2::3])\n",
    "    priorities = 0\n",
    "    for group in groups:\n",
    "        priorities += calc_priority_backpack_group(group[0], group[1], group[2])\n",
    "    print(priorities)"
   ]
  },
  {
   "cell_type": "code",
   "execution_count": null,
   "id": "f3074e03-cb61-453d-ad0f-553fd40d86b6",
   "metadata": {},
   "outputs": [],
   "source": []
  }
 ],
 "metadata": {
  "kernelspec": {
   "display_name": "Python 3 (ipykernel)",
   "language": "python",
   "name": "python3"
  },
  "language_info": {
   "codemirror_mode": {
    "name": "ipython",
    "version": 3
   },
   "file_extension": ".py",
   "mimetype": "text/x-python",
   "name": "python",
   "nbconvert_exporter": "python",
   "pygments_lexer": "ipython3",
   "version": "3.10.0"
  }
 },
 "nbformat": 4,
 "nbformat_minor": 5
}
