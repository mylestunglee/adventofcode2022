{
 "cells": [
  {
   "cell_type": "code",
   "execution_count": 38,
   "id": "e1cb5e73",
   "metadata": {},
   "outputs": [
    {
     "name": "stdout",
     "output_type": "stream",
     "text": [
      "6070\n"
     ]
    }
   ],
   "source": [
    "import ast\n",
    "\n",
    "with open('day13_input.txt') as file:\n",
    "    puzzle_input = file.read()\n",
    "\n",
    "pairs = []\n",
    "\n",
    "for pair in puzzle_input.split('\\n\\n'):\n",
    "    left, right = filter(None, pair.split('\\n'))\n",
    "    pairs.append((ast.literal_eval(left), ast.literal_eval(right)))\n",
    "    \n",
    "def compare_lists(left, right):\n",
    "    if not left and right:\n",
    "        return 1\n",
    "    elif left and not right:\n",
    "        return -1\n",
    "    elif not left and not right:\n",
    "        return 0\n",
    "    comparison = compare(left[0], right[0])\n",
    "    if comparison == 0:\n",
    "        return compare_lists(left[1:], right[1:])\n",
    "    return comparison\n",
    "    \n",
    "def compare(left, right):\n",
    "    if type(left) is int and type(right) is int:\n",
    "        return right - left\n",
    "    elif type(left) is list and type(right) is list:\n",
    "        return compare_lists(left, right)\n",
    "    elif type(left) is list and type(right) is int:\n",
    "        return compare_lists(left, [right])\n",
    "    elif type(left) is int and type(right) is list:\n",
    "        return compare_lists([left], right)\n",
    "    return 0\n",
    "    \n",
    "index_sum = 0\n",
    "for index, pair in enumerate(pairs):\n",
    "    left, right = pair\n",
    "    if compare(left, right) > 0:\n",
    "        index_sum += index + 1\n",
    "\n",
    "print(index_sum)"
   ]
  },
  {
   "cell_type": "code",
   "execution_count": 39,
   "id": "ce671105",
   "metadata": {},
   "outputs": [
    {
     "data": {
      "text/plain": [
       "2"
      ]
     },
     "execution_count": 39,
     "metadata": {},
     "output_type": "execute_result"
    }
   ],
   "source": [
    "compare([3,1,1],[5,1,1])"
   ]
  },
  {
   "cell_type": "code",
   "execution_count": 55,
   "id": "b3a3653c",
   "metadata": {},
   "outputs": [
    {
     "name": "stdout",
     "output_type": "stream",
     "text": [
      "20758\n"
     ]
    }
   ],
   "source": [
    "import ast\n",
    "\n",
    "with open('day13_input.txt') as file:\n",
    "    puzzle_input = file.read()\n",
    "    \n",
    "start_packet = [[2]]\n",
    "end_packet = [[6]]\n",
    "packets = [start_packet, end_packet]\n",
    "\n",
    "for line in puzzle_input.splitlines():\n",
    "    if not line:\n",
    "        continue\n",
    "    packets.append(ast.literal_eval(line))\n",
    "\n",
    "packets.sort(key=cmp_to_key(compare), reverse=True)\n",
    "start_index = [index for index, packet in enumerate(packets) if compare(packet, start_packet) == 0][0]\n",
    "end_index = [index for index, packet in enumerate(packets) if compare(packet, end_packet) == 0][0]\n",
    "print((start_index + 1) * (end_index + 1))"
   ]
  },
  {
   "cell_type": "code",
   "execution_count": null,
   "id": "c971296c",
   "metadata": {},
   "outputs": [],
   "source": []
  }
 ],
 "metadata": {
  "kernelspec": {
   "display_name": "Python 3 (ipykernel)",
   "language": "python",
   "name": "python3"
  },
  "language_info": {
   "codemirror_mode": {
    "name": "ipython",
    "version": 3
   },
   "file_extension": ".py",
   "mimetype": "text/x-python",
   "name": "python",
   "nbconvert_exporter": "python",
   "pygments_lexer": "ipython3",
   "version": "3.10.0"
  }
 },
 "nbformat": 4,
 "nbformat_minor": 5
}
