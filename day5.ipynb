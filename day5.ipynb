{
 "cells": [
  {
   "cell_type": "code",
   "execution_count": 29,
   "id": "a97d55a8-a29e-455c-b561-e99e69ac306c",
   "metadata": {},
   "outputs": [
    {
     "name": "stdout",
     "output_type": "stream",
     "text": [
      "JDTMRWCQJ\n"
     ]
    }
   ],
   "source": [
    "file = open('day5_input.txt')\n",
    "lines = file.read().splitlines()\n",
    "\n",
    "stack_count = int((len(lines[0]) + 1) / 4)\n",
    "\n",
    "# compute initial stacks\n",
    "stacks = [[] for _ in range(stack_count)]\n",
    "for line in lines[::-1]:\n",
    "    if line and line.strip()[0] == '[':\n",
    "        for column in range(stack_count):\n",
    "            crate = line[4 * column + 1]\n",
    "            if crate == ' ':\n",
    "                continue\n",
    "            stacks[column].append(crate)\n",
    "            \n",
    "# process move operations\n",
    "for line in lines:\n",
    "    words = line.split()\n",
    "    if words and words[0] == 'move':\n",
    "        crate_count = int(words[1])\n",
    "        source_column = int(words[3]) - 1\n",
    "        dest_column = int(words[5]) - 1\n",
    "        for _ in range(crate_count):\n",
    "            crate = stacks[source_column].pop()\n",
    "            stacks[dest_column].append(crate)\n",
    "\n",
    "# print result\n",
    "print(''.join(stack[-1] for stack in stacks))"
   ]
  },
  {
   "cell_type": "code",
   "execution_count": 34,
   "id": "d7b15af2-57df-4b1a-862d-f7fb826874e2",
   "metadata": {},
   "outputs": [
    {
     "name": "stdout",
     "output_type": "stream",
     "text": [
      "VHJDDCWRD\n"
     ]
    }
   ],
   "source": [
    "file = open('day5_input.txt')\n",
    "lines = file.read().splitlines()\n",
    "\n",
    "stack_count = int((len(lines[0]) + 1) / 4)\n",
    "\n",
    "# compute initial stacks\n",
    "stacks = [[] for _ in range(stack_count)]\n",
    "for line in lines[::-1]:\n",
    "    if line and line.strip()[0] == '[':\n",
    "        for column in range(stack_count):\n",
    "            crate = line[4 * column + 1]\n",
    "            if crate == ' ':\n",
    "                continue\n",
    "            stacks[column].append(crate)\n",
    "            \n",
    "# process move operations\n",
    "for line in lines:\n",
    "    words = line.split()\n",
    "    if words and words[0] == 'move':\n",
    "        crate_count = int(words[1])\n",
    "        source_column = int(words[3]) - 1\n",
    "        dest_column = int(words[5]) - 1\n",
    "        lifted_crates = stacks[source_column][-crate_count:]\n",
    "        stacks[source_column] = stacks[source_column][:-crate_count]\n",
    "        stacks[dest_column] += lifted_crates\n",
    "\n",
    "# print result\n",
    "print(''.join(stack[-1] for stack in stacks))"
   ]
  },
  {
   "cell_type": "code",
   "execution_count": 32,
   "id": "c4ccdd9f",
   "metadata": {},
   "outputs": [
    {
     "data": {
      "text/plain": [
       "[2, 3]"
      ]
     },
     "execution_count": 32,
     "metadata": {},
     "output_type": "execute_result"
    }
   ],
   "source": [
    "[1,2,3][-2:]"
   ]
  },
  {
   "cell_type": "code",
   "execution_count": null,
   "id": "b3c81859",
   "metadata": {},
   "outputs": [],
   "source": []
  }
 ],
 "metadata": {
  "kernelspec": {
   "display_name": "Python 3 (ipykernel)",
   "language": "python",
   "name": "python3"
  },
  "language_info": {
   "codemirror_mode": {
    "name": "ipython",
    "version": 3
   },
   "file_extension": ".py",
   "mimetype": "text/x-python",
   "name": "python",
   "nbconvert_exporter": "python",
   "pygments_lexer": "ipython3",
   "version": "3.10.0"
  }
 },
 "nbformat": 4,
 "nbformat_minor": 5
}
