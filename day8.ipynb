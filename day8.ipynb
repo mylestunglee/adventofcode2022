{
 "cells": [
  {
   "cell_type": "code",
   "execution_count": 19,
   "id": "dd0b5991",
   "metadata": {},
   "outputs": [
    {
     "name": "stdout",
     "output_type": "stream",
     "text": [
      "1870\n"
     ]
    }
   ],
   "source": [
    "from copy import deepcopy\n",
    "\n",
    "file = open('day8_input.txt')\n",
    "lines = file.read().splitlines()\n",
    "grid = [[int(cell) for cell in row] for row in lines]\n",
    "grid_l2r = deepcopy(grid)\n",
    "grid_r2l = deepcopy(grid)\n",
    "grid_t2b = deepcopy(grid)\n",
    "grid_b2t = deepcopy(grid)\n",
    "\n",
    "for y in range(len(grid)):\n",
    "    for x in range(len(grid[0]) - 1):\n",
    "        grid_l2r[y][x + 1] = max(grid_l2r[y][x], grid_l2r[y][x + 1])\n",
    "\n",
    "for y in range(len(grid)):\n",
    "    for x in range(len(grid[0]) - 1, 0, -1):\n",
    "        grid_r2l[y][x - 1] = max(grid_r2l[y][x], grid_r2l[y][x - 1])\n",
    "\n",
    "for y in range(len(grid) - 1):\n",
    "    for x in range(len(grid[0])):\n",
    "        grid_t2b[y + 1][x] = max(grid_t2b[y][x], grid_t2b[y + 1][x])\n",
    "\n",
    "for y in range(len(grid) - 1, 0, -1):\n",
    "    for x in range(len(grid[0])):\n",
    "        grid_b2t[y - 1][x] = max(grid_b2t[y][x], grid_b2t[y - 1][x])\n",
    "\n",
    "visible_trees = 2 * len(grid) + 2 * len(grid[0]) - 4\n",
    "for y in range(1, len(grid) - 1):\n",
    "    for x in range(1, len(grid[0]) - 1):\n",
    "        visible_l2r = grid_l2r[y][x - 1] < grid_l2r[y][x]\n",
    "        visible_r2l = grid_r2l[y][x] > grid_r2l[y][x + 1]\n",
    "        visible_t2b = grid_t2b[y - 1][x] < grid_t2b[y][x]\n",
    "        visible_b2t = grid_b2t[y][x] > grid_b2t[y + 1][x]\n",
    "        \n",
    "        if visible_l2r or visible_r2l or visible_t2b or visible_b2t:\n",
    "            visible_trees += 1\n",
    "            \n",
    "print(visible_trees)\n",
    "        "
   ]
  },
  {
   "cell_type": "code",
   "execution_count": 11,
   "id": "a2dbe6ab",
   "metadata": {},
   "outputs": [
    {
     "data": {
      "text/plain": [
       "[5, 4, 3, 2]"
      ]
     },
     "execution_count": 11,
     "metadata": {},
     "output_type": "execute_result"
    }
   ],
   "source": [
    "list(range(5, 1, -1))"
   ]
  },
  {
   "cell_type": "code",
   "execution_count": 55,
   "id": "5829fc53",
   "metadata": {},
   "outputs": [
    {
     "name": "stdout",
     "output_type": "stream",
     "text": [
      "517440\n"
     ]
    }
   ],
   "source": [
    "file = open('day8_input.txt')\n",
    "lines = file.read().splitlines()\n",
    "grid = [[int(cell) for cell in row] for row in lines]\n",
    "\n",
    "def calc_slope(trees):\n",
    "    slope = [-1] + trees[::]\n",
    "    for i in range(len(slope) - 1):\n",
    "        slope[i + 1] = max(slope[i], slope[i + 1])\n",
    "    return slope\n",
    "\n",
    "def calc_visible_trees(house, trees):\n",
    "    visible = 0\n",
    "    slope = calc_slope(trees)\n",
    "    for i in range(1, len(slope)):\n",
    "        if slope[i] >= house:\n",
    "            visible += 1\n",
    "            break\n",
    "        visible += 1\n",
    "        \n",
    "    return visible\n",
    "\n",
    "def calc_scenic_score(x, y):\n",
    "    house = grid[y][x]\n",
    "    row = grid[y]\n",
    "    left_visible = calc_visible_trees(house, row[:x][::-1])\n",
    "    right_visible = calc_visible_trees(house, row[x + 1:])\n",
    "    column = [row[x] for row in grid]\n",
    "    top_visible = calc_visible_trees(house, column[:y][::-1])\n",
    "    bottom_visible = calc_visible_trees(house, column[y + 1:])\n",
    "    return left_visible * right_visible * top_visible * bottom_visible\n",
    "\n",
    "best_scenic_score = 0\n",
    "for y in range(len(grid)):\n",
    "    for x in range(len(grid[0])):\n",
    "        best_scenic_score = max(best_scenic_score, calc_scenic_score(x, y))\n",
    "print(best_scenic_score)\n"
   ]
  },
  {
   "cell_type": "code",
   "execution_count": 32,
   "id": "344baeb7",
   "metadata": {},
   "outputs": [
    {
     "data": {
      "text/plain": [
       "[4, 5]"
      ]
     },
     "execution_count": 32,
     "metadata": {},
     "output_type": "execute_result"
    }
   ],
   "source": [
    "[1, 2, 3, 4, 5][3:]"
   ]
  },
  {
   "cell_type": "code",
   "execution_count": null,
   "id": "b3e98792",
   "metadata": {},
   "outputs": [],
   "source": []
  }
 ],
 "metadata": {
  "kernelspec": {
   "display_name": "Python 3 (ipykernel)",
   "language": "python",
   "name": "python3"
  },
  "language_info": {
   "codemirror_mode": {
    "name": "ipython",
    "version": 3
   },
   "file_extension": ".py",
   "mimetype": "text/x-python",
   "name": "python",
   "nbconvert_exporter": "python",
   "pygments_lexer": "ipython3",
   "version": "3.10.0"
  }
 },
 "nbformat": 4,
 "nbformat_minor": 5
}
