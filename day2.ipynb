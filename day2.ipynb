{
 "cells": [
  {
   "cell_type": "code",
   "execution_count": 3,
   "id": "c3bbc879-a465-44ce-8d61-43ac3a581fdd",
   "metadata": {},
   "outputs": [],
   "source": [
    "def calc_score(opponent, me):\n",
    "    shape_score = {'X': 1, 'Y': 2, 'Z': 3}[me]\n",
    "    outcome_score = {\n",
    "        'A': {'X': 3, 'Y': 6, 'Z': 0},\n",
    "        'B': {'X': 0, 'Y': 3, 'Z': 6},\n",
    "        'C': {'X': 6, 'Y': 0, 'Z': 3}}[opponent][me]\n",
    "    return shape_score + outcome_score"
   ]
  },
  {
   "cell_type": "code",
   "execution_count": 11,
   "id": "92f503fd-235d-4508-aa76-a1ee80a1efc6",
   "metadata": {},
   "outputs": [
    {
     "name": "stdout",
     "output_type": "stream",
     "text": [
      "10595\n"
     ]
    }
   ],
   "source": [
    "with open('day2_input.txt') as file:\n",
    "    lines = file.readlines()\n",
    "    total_score = 0\n",
    "    for line in lines:\n",
    "        opponent, me = line.split()\n",
    "        total_score += calc_score(opponent, me)\n",
    "print(total_score)"
   ]
  },
  {
   "cell_type": "code",
   "execution_count": 17,
   "id": "bf3feaaf-f6f1-4c25-81e3-655c45d7a273",
   "metadata": {},
   "outputs": [],
   "source": [
    "def calc_score2(opponent, me):\n",
    "    shape_score = {\n",
    "        'A': {'X': 3, 'Y': 1, 'Z': 2},\n",
    "        'B': {'X': 1, 'Y': 2, 'Z': 3},\n",
    "        'C': {'X': 2, 'Y': 3, 'Z': 1}}[opponent][me]\n",
    "    outcome_score = {'X': 0, 'Y': 3, 'Z': 6}[me]\n",
    "    return shape_score + outcome_score"
   ]
  },
  {
   "cell_type": "code",
   "execution_count": 14,
   "id": "604ded6d-2255-464d-8b46-73518148b5ad",
   "metadata": {},
   "outputs": [],
   "source": [
    "# 1 rock; 2 paper; 3 scissors"
   ]
  },
  {
   "cell_type": "code",
   "execution_count": 15,
   "id": "49ca26ef-0266-4b24-a186-807ca9bc16ae",
   "metadata": {},
   "outputs": [],
   "source": [
    "# X lose; Y draw; Z win"
   ]
  },
  {
   "cell_type": "code",
   "execution_count": 18,
   "id": "94250c6a-200b-423e-b32b-a1fc6ee15e9e",
   "metadata": {},
   "outputs": [
    {
     "name": "stdout",
     "output_type": "stream",
     "text": [
      "9541\n"
     ]
    }
   ],
   "source": [
    "with open('day2_input.txt') as file:\n",
    "    lines = file.readlines()\n",
    "    total_score = 0\n",
    "    for line in lines:\n",
    "        opponent, me = line.split()\n",
    "        total_score += calc_score2(opponent, me)\n",
    "print(total_score)"
   ]
  },
  {
   "cell_type": "code",
   "execution_count": null,
   "id": "f8046d89-ba1b-4e50-ad7b-8b75c9ff5957",
   "metadata": {},
   "outputs": [],
   "source": []
  }
 ],
 "metadata": {
  "kernelspec": {
   "display_name": "Python 3 (ipykernel)",
   "language": "python",
   "name": "python3"
  },
  "language_info": {
   "codemirror_mode": {
    "name": "ipython",
    "version": 3
   },
   "file_extension": ".py",
   "mimetype": "text/x-python",
   "name": "python",
   "nbconvert_exporter": "python",
   "pygments_lexer": "ipython3",
   "version": "3.10.0"
  }
 },
 "nbformat": 4,
 "nbformat_minor": 5
}
