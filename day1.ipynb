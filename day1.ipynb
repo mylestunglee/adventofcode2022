{
 "cells": [
  {
   "cell_type": "code",
   "execution_count": 9,
   "id": "5b08ddc3",
   "metadata": {},
   "outputs": [
    {
     "name": "stdout",
     "output_type": "stream",
     "text": [
      "73211\n"
     ]
    }
   ],
   "source": [
    "with open('day1_input.txt') as file:\n",
    "    puzzle_input = file.read()\n",
    "\n",
    "def parse_group_input(group_input):\n",
    "    return list(map(int, group_input.split()))\n",
    "\n",
    "def parse_puzzle_input(puzzle_input):\n",
    "    group_inputs = puzzle_input.split('\\n\\n')\n",
    "    return list(map(parse_group_input, group_inputs))\n",
    "\n",
    "print(max(map(sum, parse_puzzle_input(puzzle_input))))"
   ]
  },
  {
   "cell_type": "code",
   "execution_count": 16,
   "id": "1f4f192f",
   "metadata": {},
   "outputs": [
    {
     "name": "stdout",
     "output_type": "stream",
     "text": [
      "213958\n"
     ]
    }
   ],
   "source": [
    "with open('day1_input.txt') as file:\n",
    "    puzzle_input = file.read()\n",
    "\n",
    "groups = list(map(sum, parse_puzzle_input(puzzle_input)))\n",
    "groups.sort()\n",
    "print(sum(groups[-3:]))"
   ]
  }
 ],
 "metadata": {
  "kernelspec": {
   "display_name": "Python 3 (ipykernel)",
   "language": "python",
   "name": "python3"
  },
  "language_info": {
   "codemirror_mode": {
    "name": "ipython",
    "version": 3
   },
   "file_extension": ".py",
   "mimetype": "text/x-python",
   "name": "python",
   "nbconvert_exporter": "python",
   "pygments_lexer": "ipython3",
   "version": "3.10.0"
  }
 },
 "nbformat": 4,
 "nbformat_minor": 5
}
