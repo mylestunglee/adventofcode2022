{
 "cells": [
  {
   "cell_type": "code",
   "execution_count": 85,
   "id": "012b48a1",
   "metadata": {},
   "outputs": [
    {
     "name": "stdout",
     "output_type": "stream",
     "text": [
      "528\n"
     ]
    }
   ],
   "source": [
    "with open('day12_input.txt') as file:\n",
    "    puzzle_input = file.read()\n",
    "    \n",
    "lines = puzzle_input.splitlines()\n",
    "heightmap = [[ord({'S': 'a', 'E': 'z'}.get(cell, cell)) - ord('a') for cell in row] for row in lines]\n",
    "start = [(x, y) for y, row in enumerate(lines) for x, cell in enumerate(row) if cell == 'S'][0]\n",
    "end = [(x, y) for y, row in enumerate(lines) for x, cell in enumerate(row) if cell == 'E'][0]\n",
    "visited = [[len(puzzle_input) for _ in row] for row in heightmap]\n",
    "width = len(heightmap[0])\n",
    "height = len(heightmap)\n",
    "\n",
    "queue = [(start, 0)]\n",
    "\n",
    "while queue:\n",
    "    curr, depth = queue.pop(0)\n",
    "    x, y = curr\n",
    "    if depth >= visited[y][x]:\n",
    "        continue\n",
    "\n",
    "    visited[y][x] = depth    \n",
    "\n",
    "    if x > 0 and heightmap[y][x] + 1 >= heightmap[y][x - 1]:\n",
    "        queue.append(((x - 1, y), depth + 1))\n",
    "\n",
    "    if x < width - 1 and heightmap[y][x] + 1 >= heightmap[y][x + 1]:\n",
    "        queue.append(((x + 1, y), depth + 1))\n",
    "\n",
    "    if y > 0 and heightmap[y][x] + 1 >= heightmap[y - 1][x]:\n",
    "        queue.append(((x, y - 1), depth + 1))\n",
    "\n",
    "    if y < height - 1 and heightmap[y][x] + 1 >= heightmap[y + 1][x]:\n",
    "        queue.append(((x, y + 1), depth + 1))\n",
    "\n",
    "print(visited[end[1]][end[0]])"
   ]
  },
  {
   "cell_type": "code",
   "execution_count": 84,
   "id": "7a6e0b58",
   "metadata": {},
   "outputs": [
    {
     "name": "stdout",
     "output_type": "stream",
     "text": [
      "522\n"
     ]
    }
   ],
   "source": [
    "with open('day12_input.txt') as file:\n",
    "    puzzle_input = file.read()\n",
    "\n",
    "lines = puzzle_input.splitlines()\n",
    "heightmap = [[ord({'S': 'a', 'E': 'z'}.get(cell, cell)) - ord('a') for cell in row] for row in lines]\n",
    "start = [(x, y) for y, row in enumerate(lines) for x, cell in enumerate(row) if cell == 'S'][0]\n",
    "end = [(x, y) for y, row in enumerate(lines) for x, cell in enumerate(row) if cell == 'E'][0]\n",
    "visited = [[len(puzzle_input) for _ in row] for row in heightmap]\n",
    "width = len(heightmap[0])\n",
    "height = len(heightmap)\n",
    "\n",
    "queue = [(start, 0)]\n",
    "\n",
    "while queue:\n",
    "    curr, depth = queue.pop(0)\n",
    "    x, y = curr\n",
    "\n",
    "    if heightmap[y][x] == 0:\n",
    "        depth = 0\n",
    "    \n",
    "    if depth >= visited[y][x]:\n",
    "        continue\n",
    "\n",
    "    visited[y][x] = depth\n",
    "\n",
    "    if x > 0 and heightmap[y][x] + 1 >= heightmap[y][x - 1]:\n",
    "        queue.append(((x - 1, y), depth + 1))\n",
    "\n",
    "    if x < width - 1 and heightmap[y][x] + 1 >= heightmap[y][x + 1]:\n",
    "        queue.append(((x + 1, y), depth + 1))\n",
    "\n",
    "    if y > 0 and heightmap[y][x] + 1 >= heightmap[y - 1][x]:\n",
    "        queue.append(((x, y - 1), depth + 1))\n",
    "\n",
    "    if y < height - 1 and heightmap[y][x] + 1 >= heightmap[y + 1][x]:\n",
    "        queue.append(((x, y + 1), depth + 1))\n",
    "\n",
    "print(visited[end[1]][end[0]])"
   ]
  },
  {
   "cell_type": "code",
   "execution_count": null,
   "id": "f520a1cd",
   "metadata": {},
   "outputs": [],
   "source": []
  }
 ],
 "metadata": {
  "kernelspec": {
   "display_name": "Python 3 (ipykernel)",
   "language": "python",
   "name": "python3"
  },
  "language_info": {
   "codemirror_mode": {
    "name": "ipython",
    "version": 3
   },
   "file_extension": ".py",
   "mimetype": "text/x-python",
   "name": "python",
   "nbconvert_exporter": "python",
   "pygments_lexer": "ipython3",
   "version": "3.10.0"
  }
 },
 "nbformat": 4,
 "nbformat_minor": 5
}
