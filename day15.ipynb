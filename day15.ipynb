{
 "cells": [
  {
   "cell_type": "code",
   "execution_count": 38,
   "id": "95105f79",
   "metadata": {},
   "outputs": [
    {
     "name": "stdout",
     "output_type": "stream",
     "text": [
      "5607466\n"
     ]
    }
   ],
   "source": [
    "with open('day15_input.txt') as file:\n",
    "    puzzle_input = file.read()\n",
    "\n",
    "scan_y = 2000000\n",
    "scan_xs = set()\n",
    "scan_beacons = set()\n",
    "\n",
    "for line in puzzle_input.splitlines():\n",
    "    words = line.split()\n",
    "    sensor_x = int(words[2][2:-1])\n",
    "    sensor_y = int(words[3][2:-1])\n",
    "    beacon_x = int(words[8][2:-1])\n",
    "    beacon_y = int(words[9][2:])\n",
    "    \n",
    "    if beacon_y == scan_y:\n",
    "        scan_beacons.add(beacon_x)\n",
    "    \n",
    "    distance = abs(beacon_x - sensor_x) + abs(beacon_y - sensor_y)\n",
    "    \n",
    "    for x in range(sensor_x - distance, sensor_x + distance + 1):\n",
    "        if abs(sensor_x - x) + abs(sensor_y - scan_y) <= distance:\n",
    "            scan_xs.add(x)\n",
    "\n",
    "print(len(scan_xs - scan_beacons))\n"
   ]
  },
  {
   "cell_type": "code",
   "execution_count": null,
   "id": "23684ed7",
   "metadata": {
    "scrolled": true
   },
   "outputs": [],
   "source": [
    "with open('day15_input.txt') as file:\n",
    "    puzzle_input = file.read()\n",
    "\n",
    "def calc_dist(x1, y1, x2, y2):\n",
    "    return abs(x2 - x1) + abs(y2 - y1)\n",
    "\n",
    "sensor_dists = []\n",
    "beacons = set()\n",
    "\n",
    "# parse input\n",
    "for line in puzzle_input.splitlines():\n",
    "    words = line.split()\n",
    "    sensor_x = int(words[2][2:-1])\n",
    "    sensor_y = int(words[3][2:-1])\n",
    "    beacon_x = int(words[8][2:-1])\n",
    "    beacon_y = int(words[9][2:])\n",
    "    \n",
    "    dist = calc_dist(sensor_x, sensor_y, beacon_x, beacon_y)\n",
    "    \n",
    "    sensor_dists.append((sensor_x, sensor_y, dist))\n",
    "    beacons.add((beacon_x, beacon_y))\n",
    "    \n",
    "def in_ranges(x, y):\n",
    "    for sensor_x, sensor_y, dist in sensor_dists:\n",
    "        if calc_dist(x, y, sensor_x, sensor_y) <= dist:\n",
    "            return True\n",
    "    \n",
    "    return False\n",
    "\n",
    "def filter_edges(edges):\n",
    "    new_edges = set()\n",
    "    for x, y in edges:\n",
    "        if not (\n",
    "            (x - 1, y - 1) in edges or\n",
    "            (x - 1, y) in edges or\n",
    "            (x - 1, y + 1) in edges or\n",
    "            (x, y - 1) in edges or\n",
    "            (x, y + 1) in edges or\n",
    "            (x + 1, y - 1) in edges or\n",
    "            (x + 1, y) in edges or\n",
    "            (x + 1, y + 1) in edges):\n",
    "            new_edges.add((x, y))\n",
    "    return new_edges\n",
    "\n",
    "edges = set()\n",
    "\n",
    "# get edges\n",
    "for sensor_x, sensor_y, dist in sensor_dists:\n",
    "    direction = 0\n",
    "    edge = dist + 1\n",
    "    x = sensor_x + edge\n",
    "    y = sensor_y\n",
    "    \n",
    "    while not (x == sensor_x + edge and y == sensor_y and direction == 3):\n",
    "        if not in_ranges(x, y) and not (x, y) in beacons:\n",
    "            edges.add((x, y))\n",
    "        \n",
    "        if x == sensor_x and y == sensor_y - edge and direction == 0:\n",
    "            direction = 1\n",
    "        elif x == sensor_x - edge and y == sensor_y and direction == 1:\n",
    "            direction = 2\n",
    "        elif x == sensor_x and y == sensor_y + edge and direction == 2:\n",
    "            direction = 3\n",
    "        \n",
    "        if direction == 0:\n",
    "            x -= 1\n",
    "            y -= 1\n",
    "        elif direction == 1:\n",
    "            x -= 1\n",
    "            y += 1\n",
    "        elif direction == 2:\n",
    "            x += 1\n",
    "            y += 1\n",
    "        elif direction == 3:\n",
    "            x += 1\n",
    "            y -= 1\n",
    "\n",
    "    edges = filter_edges(edges)\n",
    "        \n",
    "for x, y in edges:\n",
    "    print(4000000 * x + y)"
   ]
  },
  {
   "cell_type": "code",
   "execution_count": 43,
   "id": "a03122f5",
   "metadata": {},
   "outputs": [
    {
     "data": {
      "text/plain": [
       "12543202766584"
      ]
     },
     "execution_count": 43,
     "metadata": {},
     "output_type": "execute_result"
    }
   ],
   "source": [
    "4000000*3135800+2766584"
   ]
  },
  {
   "cell_type": "code",
   "execution_count": null,
   "id": "80645bd1",
   "metadata": {},
   "outputs": [],
   "source": []
  }
 ],
 "metadata": {
  "kernelspec": {
   "display_name": "Python 3 (ipykernel)",
   "language": "python",
   "name": "python3"
  },
  "language_info": {
   "codemirror_mode": {
    "name": "ipython",
    "version": 3
   },
   "file_extension": ".py",
   "mimetype": "text/x-python",
   "name": "python",
   "nbconvert_exporter": "python",
   "pygments_lexer": "ipython3",
   "version": "3.10.0"
  }
 },
 "nbformat": 4,
 "nbformat_minor": 5
}
