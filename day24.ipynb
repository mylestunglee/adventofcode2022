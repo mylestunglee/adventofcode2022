{
 "cells": [
  {
   "cell_type": "code",
   "execution_count": 79,
   "id": "c6603f89",
   "metadata": {},
   "outputs": [
    {
     "name": "stdout",
     "output_type": "stream",
     "text": [
      "232\n"
     ]
    }
   ],
   "source": [
    "import numpy as np\n",
    "\n",
    "with open('day24_input.txt') as file:\n",
    "    puzzle_input = file.read()\n",
    "\n",
    "def parse_puzzle_input(puzzle_input):\n",
    "    lines = puzzle_input.split()\n",
    "    width = len(lines[0]) - 2\n",
    "    height = len(lines) - 2\n",
    "    size = (height, width)\n",
    "    \n",
    "    def create_blizzard():\n",
    "        return np.zeros(size, dtype=bool)\n",
    "    \n",
    "    blizzards = {\n",
    "        '>': create_blizzard(),\n",
    "        'v': create_blizzard(),\n",
    "        '<': create_blizzard(),\n",
    "        '^': create_blizzard()\n",
    "    }\n",
    "    \n",
    "    for y in range(height):\n",
    "        for x in range(width):\n",
    "            for direction, blizzard in blizzards.items():\n",
    "                if lines[y + 1][x + 1] == direction:\n",
    "                    blizzard[y, x] = True\n",
    "                    \n",
    "    return blizzards, size\n",
    "\n",
    "def step_blizzards(blizzards):\n",
    "    return {\n",
    "        '>': np.hstack((blizzards['>'][:, -1:], blizzards['>'][:, :-1])),\n",
    "        'v': np.vstack((blizzards['v'][-1:, :], blizzards['v'][:-1, :])),\n",
    "        '<': np.hstack((blizzards['<'][:, 1:], blizzards['<'][:, :1])),\n",
    "        '^': np.vstack((blizzards['^'][1:, :], blizzards['^'][:1, :]))\n",
    "    }\n",
    "\n",
    "def spread_fill(fill):\n",
    "    height, width = fill.shape\n",
    "    new_fill = np.zeros(fill.shape, dtype=bool)\n",
    "    for y in range(height):\n",
    "        for x in range(width):\n",
    "            new_fill[y, x] = fill[y, x]\n",
    "            if x > 0:\n",
    "                new_fill[y, x] |= fill[y, x - 1]\n",
    "            if x < width - 1:\n",
    "                new_fill[y, x] |= fill[y, x + 1]\n",
    "            if y > 0:\n",
    "                new_fill[y, x] |= fill[y - 1, x]\n",
    "            if y < height - 1:\n",
    "                new_fill[y, x] |= fill[y + 1, x]\n",
    "    return new_fill\n",
    "\n",
    "def filter_fill(fill, blizzards):\n",
    "    any_blizzard = np.zeros(fill.shape, dtype=bool)\n",
    "    for blizzard in blizzards.values():\n",
    "        any_blizzard |= blizzard\n",
    "    return fill & ~any_blizzard\n",
    "\n",
    "def count_steps(size, blizzards, start_pos, finish_pos):\n",
    "    fill = np.zeros(size, dtype=bool)\n",
    "    step_count = 0\n",
    "\n",
    "    while not fill[finish_pos[0], finish_pos[1]]:\n",
    "        blizzards = step_blizzards(blizzards)\n",
    "        fill = spread_fill(fill)\n",
    "        fill[start_pos[0], start_pos[1]] = True\n",
    "        fill = filter_fill(fill, blizzards)\n",
    "        step_count += 1\n",
    "\n",
    "    return step_count, blizzards\n",
    "\n",
    "blizzards, size = parse_puzzle_input(puzzle_input)\n",
    "step_count, _ = count_steps(size, blizzards, (0, 0), (-1, -1))\n",
    "print(step_count + 1)"
   ]
  },
  {
   "cell_type": "code",
   "execution_count": 80,
   "id": "c9a1ee2a",
   "metadata": {},
   "outputs": [
    {
     "name": "stdout",
     "output_type": "stream",
     "text": [
      "715\n"
     ]
    }
   ],
   "source": [
    "with open('day24_input.txt') as file:\n",
    "    puzzle_input = file.read()\n",
    "\n",
    "blizzards, size = parse_puzzle_input(puzzle_input)\n",
    "step_count_1, blizzards = count_steps(size, blizzards, (0, 0), (-1, -1))\n",
    "step_count_2, blizzards = count_steps(size, blizzards, (-1, -1), (0, 0))\n",
    "step_count_3, blizzards = count_steps(size, blizzards, (0, 0), (-1, -1))\n",
    "step_count = step_count_1 + step_count_2 + step_count_3 + 1\n",
    "\n",
    "print(step_count)"
   ]
  }
 ],
 "metadata": {
  "kernelspec": {
   "display_name": "Python 3 (ipykernel)",
   "language": "python",
   "name": "python3"
  },
  "language_info": {
   "codemirror_mode": {
    "name": "ipython",
    "version": 3
   },
   "file_extension": ".py",
   "mimetype": "text/x-python",
   "name": "python",
   "nbconvert_exporter": "python",
   "pygments_lexer": "ipython3",
   "version": "3.10.0"
  }
 },
 "nbformat": 4,
 "nbformat_minor": 5
}
