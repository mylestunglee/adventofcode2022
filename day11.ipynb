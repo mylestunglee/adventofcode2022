{
 "cells": [
  {
   "cell_type": "code",
   "execution_count": 50,
   "id": "9e64406d",
   "metadata": {},
   "outputs": [
    {
     "name": "stdout",
     "output_type": "stream",
     "text": [
      "88208\n"
     ]
    }
   ],
   "source": [
    "with open('day11_input.txt') as file:\n",
    "    puzzle_input = file.read()\n",
    "    \n",
    "def parse_operand(word):\n",
    "    if word == 'old':\n",
    "        return lambda x: x\n",
    "    else:\n",
    "        return lambda _: int(word)\n",
    "    \n",
    "def parse_expression(words):\n",
    "    left_operand = parse_operand(words[0])\n",
    "    right_operand = parse_operand(words[2])\n",
    "    \n",
    "    if words[1] == '+':\n",
    "        operation = lambda x, y: x + y\n",
    "    elif words[1] == '*':\n",
    "        operation = lambda x, y: x * y\n",
    "        \n",
    "    return lambda x: operation(left_operand(x), right_operand(x))\n",
    "    \n",
    "def parse_monkey(monkey_input):\n",
    "    lines = monkey_input.splitlines()\n",
    "    items = [int(word) for word in lines[1].split(':')[1].split(', ')]\n",
    "    expression = parse_expression(lines[2].split('=')[1].split())\n",
    "    test = lambda x: x % int(lines[3].split()[3]) == 0\n",
    "    true_dest = int(lines[4].split()[5])\n",
    "    false_dest = int(lines[5].split()[5])\n",
    "    return {'items': items,\n",
    "            'operation': expression,\n",
    "            'test': test,\n",
    "            'true_dest': true_dest,\n",
    "            'false_dest': false_dest,\n",
    "            'test_count': 0}\n",
    "    \n",
    "monkeys = []\n",
    "\n",
    "for monkey_input in puzzle_input.split('\\n\\n'):\n",
    "    monkeys.append(parse_monkey(monkey_input))\n",
    "    \n",
    "for _ in range(20):\n",
    "    for monkey in monkeys:\n",
    "        items = monkey['items'][:]\n",
    "        monkey['items'].clear()\n",
    "        for old_item in items:\n",
    "            new_item = monkey['operation'](old_item) // 3\n",
    "            if monkey['test'](new_item):\n",
    "                monkeys[monkey['true_dest']]['items'].append((new_item))\n",
    "            else:\n",
    "                monkeys[monkey['false_dest']]['items'].append((new_item))\n",
    "            monkey['test_count'] += 1\n",
    "\n",
    "test_counts = [monkey['test_count'] for monkey in monkeys]\n",
    "test_counts.sort()\n",
    "print(test_counts[-1] * test_counts[-2])\n"
   ]
  },
  {
   "cell_type": "code",
   "execution_count": 75,
   "id": "40a62097",
   "metadata": {},
   "outputs": [
    {
     "name": "stdout",
     "output_type": "stream",
     "text": [
      "21115867968\n"
     ]
    }
   ],
   "source": [
    "import math\n",
    "\n",
    "with open('day11_input.txt') as file:\n",
    "    puzzle_input = file.read()\n",
    "    \n",
    "def parse_operand(word):\n",
    "    if word == 'old':\n",
    "        return lambda x: x\n",
    "    else:\n",
    "        return lambda _: int(word)\n",
    "    \n",
    "def parse_expression(words):\n",
    "    left_operand = parse_operand(words[0])\n",
    "    right_operand = parse_operand(words[2])\n",
    "    \n",
    "    if words[1] == '+':\n",
    "        operation = lambda x, y: x + y\n",
    "    elif words[1] == '*':\n",
    "        operation = lambda x, y: x * y\n",
    "        \n",
    "    return lambda x: operation(left_operand(x), right_operand(x))\n",
    "    \n",
    "def parse_monkey(monkey_input):\n",
    "    lines = monkey_input.splitlines()\n",
    "    items = [int(word) for word in lines[1].split(':')[1].split(', ')]\n",
    "    expression = parse_expression(lines[2].split('=')[1].split())\n",
    "    denominator = int(lines[3].split()[3])\n",
    "    true_dest = int(lines[4].split()[5])\n",
    "    false_dest = int(lines[5].split()[5])\n",
    "    return {'items': items,\n",
    "            'operation': expression,\n",
    "            'denominator': denominator,\n",
    "            'true_dest': true_dest,\n",
    "            'false_dest': false_dest,\n",
    "            'test_count': 0}\n",
    "    \n",
    "monkeys = []\n",
    "\n",
    "for monkey_input in puzzle_input.split('\\n\\n'):\n",
    "    monkeys.append(parse_monkey(monkey_input))\n",
    "    \n",
    "denominators = math.prod(monkey['denominator'] for monkey in monkeys)\n",
    "    \n",
    "for i in range(10000):\n",
    "    for monkey in monkeys:\n",
    "        items = monkey['items'][:]\n",
    "        monkey['items'].clear()\n",
    "        for old_item in items:\n",
    "            new_item = monkey['operation'](old_item) % denominators\n",
    "            if new_item % monkey['denominator'] == 0:\n",
    "                monkeys[monkey['true_dest']]['items'].append((new_item))\n",
    "            else:\n",
    "                monkeys[monkey['false_dest']]['items'].append((new_item))\n",
    "            monkey['test_count'] += 1\n",
    "\n",
    "test_counts = [monkey['test_count'] for monkey in monkeys]\n",
    "test_counts.sort()\n",
    "print(test_counts[-1] * test_counts[-2])\n"
   ]
  },
  {
   "cell_type": "code",
   "execution_count": null,
   "id": "c91419f2",
   "metadata": {},
   "outputs": [],
   "source": []
  }
 ],
 "metadata": {
  "kernelspec": {
   "display_name": "Python 3 (ipykernel)",
   "language": "python",
   "name": "python3"
  },
  "language_info": {
   "codemirror_mode": {
    "name": "ipython",
    "version": 3
   },
   "file_extension": ".py",
   "mimetype": "text/x-python",
   "name": "python",
   "nbconvert_exporter": "python",
   "pygments_lexer": "ipython3",
   "version": "3.10.0"
  }
 },
 "nbformat": 4,
 "nbformat_minor": 5
}
