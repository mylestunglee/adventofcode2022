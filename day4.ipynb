{
 "cells": [
  {
   "cell_type": "code",
   "execution_count": 8,
   "id": "ca2778a7-857a-496f-806d-f08d2d0815b7",
   "metadata": {},
   "outputs": [],
   "source": [
    "def range_contains(l1, u1, l2, u2):\n",
    "    return l1 <= l2 and u1 >= u2\n",
    "\n",
    "def range_contains_either(l1, u1, l2, u2):\n",
    "    return range_contains(l1, u1, l2, u2) or range_contains(l2, u2, l1, u1)"
   ]
  },
  {
   "cell_type": "code",
   "execution_count": 10,
   "id": "2d5e5a54-bdb4-41ea-b5cd-0ccf4d22308e",
   "metadata": {},
   "outputs": [
    {
     "name": "stdout",
     "output_type": "stream",
     "text": [
      "534\n"
     ]
    }
   ],
   "source": [
    "with open('day4_input.txt') as file:\n",
    "    lines = file.read().splitlines()\n",
    "    count = 0\n",
    "    for line in lines:\n",
    "        ranges = line.split(',')\n",
    "        l1s, u1s = ranges[0].split('-')\n",
    "        l2s, u2s = ranges[1].split('-')\n",
    "        count += int(range_contains_either(int(l1s), int(u1s), int(l2s), int(u2s)))\n",
    "    print(count)"
   ]
  },
  {
   "cell_type": "code",
   "execution_count": 4,
   "id": "9f25a420-93be-4e43-b1b4-822be296d76f",
   "metadata": {},
   "outputs": [
    {
     "data": {
      "text/plain": [
       "True"
      ]
     },
     "execution_count": 4,
     "metadata": {},
     "output_type": "execute_result"
    }
   ],
   "source": [
    "range_contains(2, 6, 3, 7)"
   ]
  },
  {
   "cell_type": "code",
   "execution_count": 17,
   "id": "8650f891-d40c-4199-b2b3-acbcb43a3f3c",
   "metadata": {},
   "outputs": [],
   "source": [
    "def range_overlap(l1, u1, l2, u2):\n",
    "    return l1 <= u2 and l2 <= u1"
   ]
  },
  {
   "cell_type": "code",
   "execution_count": 19,
   "id": "65867026-c6b5-492d-9d20-105b5bf28422",
   "metadata": {},
   "outputs": [
    {
     "name": "stdout",
     "output_type": "stream",
     "text": [
      "841\n"
     ]
    }
   ],
   "source": [
    "with open('day4_input.txt') as file:\n",
    "    lines = file.read().splitlines()\n",
    "    count = 0\n",
    "    for line in lines:\n",
    "        ranges = line.split(',')\n",
    "        l1s, u1s = ranges[0].split('-')\n",
    "        l2s, u2s = ranges[1].split('-')\n",
    "        count += int(range_overlap(int(l1s), int(u1s), int(l2s), int(u2s)))\n",
    "    print(count)"
   ]
  }
 ],
 "metadata": {
  "kernelspec": {
   "display_name": "Python 3 (ipykernel)",
   "language": "python",
   "name": "python3"
  },
  "language_info": {
   "codemirror_mode": {
    "name": "ipython",
    "version": 3
   },
   "file_extension": ".py",
   "mimetype": "text/x-python",
   "name": "python",
   "nbconvert_exporter": "python",
   "pygments_lexer": "ipython3",
   "version": "3.10.0"
  }
 },
 "nbformat": 4,
 "nbformat_minor": 5
}
